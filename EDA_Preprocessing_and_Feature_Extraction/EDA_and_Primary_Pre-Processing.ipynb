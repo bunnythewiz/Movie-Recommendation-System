{
 "cells": [
  {
   "cell_type": "code",
   "execution_count": 1,
   "id": "63c92d4f",
   "metadata": {},
   "outputs": [],
   "source": [
    "# Import required libraries\n",
    "import numpy as np\n",
    "import pandas as pd\n",
    "\n",
    "from random import sample "
   ]
  },
  {
   "cell_type": "code",
   "execution_count": 2,
   "id": "8c54907d",
   "metadata": {},
   "outputs": [],
   "source": [
    "# Getting rid of scientific-notation\n",
    "pd.options.display.float_format = '{:.0f}'.format"
   ]
  },
  {
   "cell_type": "code",
   "execution_count": 3,
   "id": "97e03681",
   "metadata": {},
   "outputs": [],
   "source": [
    "# Read and convert all csv into dataframes\n",
    "movies = pd.read_csv('movies.csv')\n",
    "tags = pd.read_csv('tags.csv')\n",
    "ratings = pd.read_csv('ratings.csv')\n",
    "links = pd.read_csv('links.csv')"
   ]
  },
  {
   "cell_type": "markdown",
   "id": "19068f0a",
   "metadata": {},
   "source": [
    "# Data Visualisation & Pre-Processing"
   ]
  },
  {
   "cell_type": "markdown",
   "id": "da5946dc",
   "metadata": {},
   "source": [
    "### movies"
   ]
  },
  {
   "cell_type": "code",
   "execution_count": 4,
   "id": "6662ca6d",
   "metadata": {
    "scrolled": false
   },
   "outputs": [
    {
     "data": {
      "text/html": [
       "<div>\n",
       "<style scoped>\n",
       "    .dataframe tbody tr th:only-of-type {\n",
       "        vertical-align: middle;\n",
       "    }\n",
       "\n",
       "    .dataframe tbody tr th {\n",
       "        vertical-align: top;\n",
       "    }\n",
       "\n",
       "    .dataframe thead th {\n",
       "        text-align: right;\n",
       "    }\n",
       "</style>\n",
       "<table border=\"1\" class=\"dataframe\">\n",
       "  <thead>\n",
       "    <tr style=\"text-align: right;\">\n",
       "      <th></th>\n",
       "      <th>movieId</th>\n",
       "      <th>title</th>\n",
       "      <th>genres</th>\n",
       "    </tr>\n",
       "  </thead>\n",
       "  <tbody>\n",
       "    <tr>\n",
       "      <th>3448</th>\n",
       "      <td>4703</td>\n",
       "      <td>Chocolat (1988)</td>\n",
       "      <td>Drama</td>\n",
       "    </tr>\n",
       "    <tr>\n",
       "      <th>968</th>\n",
       "      <td>1269</td>\n",
       "      <td>Arsenic and Old Lace (1944)</td>\n",
       "      <td>Comedy|Mystery|Thriller</td>\n",
       "    </tr>\n",
       "    <tr>\n",
       "      <th>9064</th>\n",
       "      <td>142372</td>\n",
       "      <td>Our Brand Is Crisis (2015)</td>\n",
       "      <td>Comedy|Drama</td>\n",
       "    </tr>\n",
       "    <tr>\n",
       "      <th>7658</th>\n",
       "      <td>88593</td>\n",
       "      <td>Yellow Sea, The (a.k.a. The Murderer) (Hwangha...</td>\n",
       "      <td>Crime|Drama|Thriller</td>\n",
       "    </tr>\n",
       "    <tr>\n",
       "      <th>6737</th>\n",
       "      <td>59141</td>\n",
       "      <td>Son of Rambow (2007)</td>\n",
       "      <td>Children|Comedy|Drama</td>\n",
       "    </tr>\n",
       "  </tbody>\n",
       "</table>\n",
       "</div>"
      ],
      "text/plain": [
       "      movieId                                              title  \\\n",
       "3448     4703                                    Chocolat (1988)   \n",
       "968      1269                        Arsenic and Old Lace (1944)   \n",
       "9064   142372                         Our Brand Is Crisis (2015)   \n",
       "7658    88593  Yellow Sea, The (a.k.a. The Murderer) (Hwangha...   \n",
       "6737    59141                               Son of Rambow (2007)   \n",
       "\n",
       "                       genres  \n",
       "3448                    Drama  \n",
       "968   Comedy|Mystery|Thriller  \n",
       "9064             Comedy|Drama  \n",
       "7658     Crime|Drama|Thriller  \n",
       "6737    Children|Comedy|Drama  "
      ]
     },
     "execution_count": 4,
     "metadata": {},
     "output_type": "execute_result"
    }
   ],
   "source": [
    "movies.sample(5)"
   ]
  },
  {
   "cell_type": "markdown",
   "id": "9108dec6",
   "metadata": {},
   "source": [
    "* we see that there are three features or columns in movies \n",
    "* movieId, title, genres\n",
    "\n",
    "* movieID : according to the description mentioned\n",
    "*** Only movies with at least one rating or tag are included in the dataset.\n",
    "    These movie ids are consistent with those used on the MovieLens web site\n",
    "    (e.g., id `1` corresponds to the URL <https://movielens.org/movies/1>).\n",
    "    Movie ids are consistent between `ratings.csv`, `tags.csv`, `movies.csv`, and `links.csv`\n",
    "    (i.e., the same id refers to the same movie across these four data files). ***\n",
    "* So corresponding to each ID we have a url which directs us to a page where info about that movie is present\n",
    "* So there are a total of 9742 movies with ID's ranging from (1 - 193609)\n",
    "\n",
    "* Title : It includes the name of the movie along with the year of airing in ()\n",
    "\n",
    "* genres : It has multiple genres (pipe-separated list)\n",
    "* According to documentation, \n",
    "*** Action, Adventure, Animation, Children's, Comedy, Crime, Documentary, Drama, Fantasy,\n",
    "    Film-Noir, Horror, Musical, Mystery, Romance, Sci-Fi, Thriller, War, Western, (no genres listed) ***"
   ]
  },
  {
   "cell_type": "markdown",
   "id": "0d3e9afb",
   "metadata": {},
   "source": [
    "#### I would like to split the column title into two columns title and year"
   ]
  },
  {
   "cell_type": "code",
   "execution_count": 5,
   "id": "d99733d1",
   "metadata": {},
   "outputs": [],
   "source": [
    "# Splitting function\n",
    "Title = []\n",
    "Year = []\n",
    "\n",
    "def Title_Year(title):\n",
    "    Title.append(title[:-7])\n",
    "    Year.append(title[-5:-1:1])"
   ]
  },
  {
   "cell_type": "code",
   "execution_count": 6,
   "id": "57e29de9",
   "metadata": {},
   "outputs": [
    {
     "name": "stdout",
     "output_type": "stream",
     "text": [
      "['Bubba Ho-tep', 'Captains Courageous', 'Impossible, The (Imposible, Lo)'] ['1945', '1969', '1966']\n"
     ]
    }
   ],
   "source": [
    "# Splitting to seperate lists\n",
    "movies['title'].apply(Title_Year)\n",
    "\n",
    "# Checking\n",
    "print(sample(Title, 3), sample(Year, 3))"
   ]
  },
  {
   "cell_type": "code",
   "execution_count": 7,
   "id": "5cf42f0c",
   "metadata": {},
   "outputs": [],
   "source": [
    "# Dropping old title column\n",
    "movies = movies.drop(columns = 'title')\n",
    "\n",
    "# Adding two new columns\n",
    "movies['Title'] = Title\n",
    "movies['Year'] = Year"
   ]
  },
  {
   "cell_type": "code",
   "execution_count": 8,
   "id": "e78c2e9e",
   "metadata": {},
   "outputs": [],
   "source": [
    "# Converter for coverting\n",
    "# Genre from pipe seperated to a list\n",
    "def convert(line):\n",
    "    return line.split('|')"
   ]
  },
  {
   "cell_type": "code",
   "execution_count": 9,
   "id": "ab66dcf3",
   "metadata": {},
   "outputs": [],
   "source": [
    "# Conversion\n",
    "movies['genres'] = movies['genres'].apply(convert)"
   ]
  },
  {
   "cell_type": "code",
   "execution_count": 10,
   "id": "93b686fd",
   "metadata": {},
   "outputs": [
    {
     "data": {
      "text/plain": [
       "9166      [Crime, Horror]\n",
       "2148      [Comedy, Drama]\n",
       "3672        [Documentary]\n",
       "5709    [Drama, Thriller]\n",
       "1329           [Thriller]\n",
       "Name: genres, dtype: object"
      ]
     },
     "execution_count": 10,
     "metadata": {},
     "output_type": "execute_result"
    }
   ],
   "source": [
    "# Checking\n",
    "movies['genres'].sample(5)"
   ]
  },
  {
   "cell_type": "code",
   "execution_count": 11,
   "id": "6089fead",
   "metadata": {},
   "outputs": [
    {
     "data": {
      "text/html": [
       "<div>\n",
       "<style scoped>\n",
       "    .dataframe tbody tr th:only-of-type {\n",
       "        vertical-align: middle;\n",
       "    }\n",
       "\n",
       "    .dataframe tbody tr th {\n",
       "        vertical-align: top;\n",
       "    }\n",
       "\n",
       "    .dataframe thead th {\n",
       "        text-align: right;\n",
       "    }\n",
       "</style>\n",
       "<table border=\"1\" class=\"dataframe\">\n",
       "  <thead>\n",
       "    <tr style=\"text-align: right;\">\n",
       "      <th></th>\n",
       "      <th>movieId</th>\n",
       "      <th>genres</th>\n",
       "      <th>Title</th>\n",
       "      <th>Year</th>\n",
       "    </tr>\n",
       "  </thead>\n",
       "  <tbody>\n",
       "    <tr>\n",
       "      <th>699</th>\n",
       "      <td>917</td>\n",
       "      <td>[Children, Drama]</td>\n",
       "      <td>Little Princess, The</td>\n",
       "      <td>1939</td>\n",
       "    </tr>\n",
       "    <tr>\n",
       "      <th>6493</th>\n",
       "      <td>53143</td>\n",
       "      <td>[Action, Thriller]</td>\n",
       "      <td>Fay Grim</td>\n",
       "      <td>2006</td>\n",
       "    </tr>\n",
       "    <tr>\n",
       "      <th>5067</th>\n",
       "      <td>7943</td>\n",
       "      <td>[Crime, Film-Noir]</td>\n",
       "      <td>Killers, The</td>\n",
       "      <td>1946</td>\n",
       "    </tr>\n",
       "    <tr>\n",
       "      <th>3525</th>\n",
       "      <td>4816</td>\n",
       "      <td>[Comedy]</td>\n",
       "      <td>Zoolander</td>\n",
       "      <td>2001</td>\n",
       "    </tr>\n",
       "    <tr>\n",
       "      <th>3268</th>\n",
       "      <td>4424</td>\n",
       "      <td>[Drama]</td>\n",
       "      <td>Garden of the Finzi-Continis, The (Giardino de...</td>\n",
       "      <td>1970</td>\n",
       "    </tr>\n",
       "  </tbody>\n",
       "</table>\n",
       "</div>"
      ],
      "text/plain": [
       "      movieId              genres  \\\n",
       "699       917   [Children, Drama]   \n",
       "6493    53143  [Action, Thriller]   \n",
       "5067     7943  [Crime, Film-Noir]   \n",
       "3525     4816            [Comedy]   \n",
       "3268     4424             [Drama]   \n",
       "\n",
       "                                                  Title  Year  \n",
       "699                                Little Princess, The  1939  \n",
       "6493                                           Fay Grim  2006  \n",
       "5067                                       Killers, The  1946  \n",
       "3525                                          Zoolander  2001  \n",
       "3268  Garden of the Finzi-Continis, The (Giardino de...  1970  "
      ]
     },
     "execution_count": 11,
     "metadata": {},
     "output_type": "execute_result"
    }
   ],
   "source": [
    "# Checking\n",
    "movies.sample(5)"
   ]
  },
  {
   "cell_type": "code",
   "execution_count": 12,
   "id": "35fb2f39",
   "metadata": {},
   "outputs": [
    {
     "name": "stdout",
     "output_type": "stream",
     "text": [
      "<class 'pandas.core.frame.DataFrame'>\n",
      "RangeIndex: 9742 entries, 0 to 9741\n",
      "Data columns (total 4 columns):\n",
      " #   Column   Non-Null Count  Dtype \n",
      "---  ------   --------------  ----- \n",
      " 0   movieId  9742 non-null   int64 \n",
      " 1   genres   9742 non-null   object\n",
      " 2   Title    9742 non-null   object\n",
      " 3   Year     9742 non-null   object\n",
      "dtypes: int64(1), object(3)\n",
      "memory usage: 304.6+ KB\n"
     ]
    }
   ],
   "source": [
    "movies.info()"
   ]
  },
  {
   "cell_type": "code",
   "execution_count": 13,
   "id": "ac1485df",
   "metadata": {},
   "outputs": [
    {
     "data": {
      "text/html": [
       "<div>\n",
       "<style scoped>\n",
       "    .dataframe tbody tr th:only-of-type {\n",
       "        vertical-align: middle;\n",
       "    }\n",
       "\n",
       "    .dataframe tbody tr th {\n",
       "        vertical-align: top;\n",
       "    }\n",
       "\n",
       "    .dataframe thead th {\n",
       "        text-align: right;\n",
       "    }\n",
       "</style>\n",
       "<table border=\"1\" class=\"dataframe\">\n",
       "  <thead>\n",
       "    <tr style=\"text-align: right;\">\n",
       "      <th></th>\n",
       "      <th>movieId</th>\n",
       "    </tr>\n",
       "  </thead>\n",
       "  <tbody>\n",
       "    <tr>\n",
       "      <th>count</th>\n",
       "      <td>9742</td>\n",
       "    </tr>\n",
       "    <tr>\n",
       "      <th>mean</th>\n",
       "      <td>42200</td>\n",
       "    </tr>\n",
       "    <tr>\n",
       "      <th>std</th>\n",
       "      <td>52160</td>\n",
       "    </tr>\n",
       "    <tr>\n",
       "      <th>min</th>\n",
       "      <td>1</td>\n",
       "    </tr>\n",
       "    <tr>\n",
       "      <th>25%</th>\n",
       "      <td>3248</td>\n",
       "    </tr>\n",
       "    <tr>\n",
       "      <th>50%</th>\n",
       "      <td>7300</td>\n",
       "    </tr>\n",
       "    <tr>\n",
       "      <th>75%</th>\n",
       "      <td>76232</td>\n",
       "    </tr>\n",
       "    <tr>\n",
       "      <th>max</th>\n",
       "      <td>193609</td>\n",
       "    </tr>\n",
       "  </tbody>\n",
       "</table>\n",
       "</div>"
      ],
      "text/plain": [
       "       movieId\n",
       "count     9742\n",
       "mean     42200\n",
       "std      52160\n",
       "min          1\n",
       "25%       3248\n",
       "50%       7300\n",
       "75%      76232\n",
       "max     193609"
      ]
     },
     "execution_count": 13,
     "metadata": {},
     "output_type": "execute_result"
    }
   ],
   "source": [
    "movies.describe()"
   ]
  },
  {
   "cell_type": "code",
   "execution_count": 14,
   "id": "caf80835",
   "metadata": {},
   "outputs": [
    {
     "name": "stdout",
     "output_type": "stream",
     "text": [
      "Percentage of missing values:\n",
      "movieId   0\n",
      "genres    0\n",
      "Title     0\n",
      "Year      0\n",
      "dtype: float64\n"
     ]
    }
   ],
   "source": [
    "# Amount of missing data\n",
    "print(\"Percentage of missing values:\")\n",
    "print(((movies.isna().sum()) / movies.shape[0]) * 100)"
   ]
  },
  {
   "cell_type": "markdown",
   "id": "e01d4698",
   "metadata": {},
   "source": [
    "* No missing data "
   ]
  },
  {
   "cell_type": "markdown",
   "id": "f86c94a9",
   "metadata": {},
   "source": [
    "### tags"
   ]
  },
  {
   "cell_type": "code",
   "execution_count": 15,
   "id": "fd7035a5",
   "metadata": {},
   "outputs": [
    {
     "data": {
      "text/html": [
       "<div>\n",
       "<style scoped>\n",
       "    .dataframe tbody tr th:only-of-type {\n",
       "        vertical-align: middle;\n",
       "    }\n",
       "\n",
       "    .dataframe tbody tr th {\n",
       "        vertical-align: top;\n",
       "    }\n",
       "\n",
       "    .dataframe thead th {\n",
       "        text-align: right;\n",
       "    }\n",
       "</style>\n",
       "<table border=\"1\" class=\"dataframe\">\n",
       "  <thead>\n",
       "    <tr style=\"text-align: right;\">\n",
       "      <th></th>\n",
       "      <th>userId</th>\n",
       "      <th>movieId</th>\n",
       "      <th>tag</th>\n",
       "      <th>timestamp</th>\n",
       "    </tr>\n",
       "  </thead>\n",
       "  <tbody>\n",
       "    <tr>\n",
       "      <th>3300</th>\n",
       "      <td>567</td>\n",
       "      <td>170945</td>\n",
       "      <td>Suspenseful</td>\n",
       "      <td>1525286501</td>\n",
       "    </tr>\n",
       "    <tr>\n",
       "      <th>1816</th>\n",
       "      <td>474</td>\n",
       "      <td>3536</td>\n",
       "      <td>priest</td>\n",
       "      <td>1137181376</td>\n",
       "    </tr>\n",
       "    <tr>\n",
       "      <th>2536</th>\n",
       "      <td>477</td>\n",
       "      <td>1089</td>\n",
       "      <td>neo-noir</td>\n",
       "      <td>1242494879</td>\n",
       "    </tr>\n",
       "    <tr>\n",
       "      <th>397</th>\n",
       "      <td>62</td>\n",
       "      <td>184471</td>\n",
       "      <td>video game adaptation</td>\n",
       "      <td>1528024898</td>\n",
       "    </tr>\n",
       "    <tr>\n",
       "      <th>3327</th>\n",
       "      <td>573</td>\n",
       "      <td>2116</td>\n",
       "      <td>classic</td>\n",
       "      <td>1186588944</td>\n",
       "    </tr>\n",
       "  </tbody>\n",
       "</table>\n",
       "</div>"
      ],
      "text/plain": [
       "      userId  movieId                    tag   timestamp\n",
       "3300     567   170945            Suspenseful  1525286501\n",
       "1816     474     3536                 priest  1137181376\n",
       "2536     477     1089               neo-noir  1242494879\n",
       "397       62   184471  video game adaptation  1528024898\n",
       "3327     573     2116                classic  1186588944"
      ]
     },
     "execution_count": 15,
     "metadata": {},
     "output_type": "execute_result"
    }
   ],
   "source": [
    "tags.sample(5)"
   ]
  },
  {
   "cell_type": "code",
   "execution_count": 16,
   "id": "c81e2d01",
   "metadata": {},
   "outputs": [
    {
     "name": "stdout",
     "output_type": "stream",
     "text": [
      "<class 'pandas.core.frame.DataFrame'>\n",
      "RangeIndex: 3683 entries, 0 to 3682\n",
      "Data columns (total 4 columns):\n",
      " #   Column     Non-Null Count  Dtype \n",
      "---  ------     --------------  ----- \n",
      " 0   userId     3683 non-null   int64 \n",
      " 1   movieId    3683 non-null   int64 \n",
      " 2   tag        3683 non-null   object\n",
      " 3   timestamp  3683 non-null   int64 \n",
      "dtypes: int64(3), object(1)\n",
      "memory usage: 115.2+ KB\n"
     ]
    }
   ],
   "source": [
    "tags.info()"
   ]
  },
  {
   "cell_type": "code",
   "execution_count": 17,
   "id": "361d5675",
   "metadata": {},
   "outputs": [
    {
     "data": {
      "text/html": [
       "<div>\n",
       "<style scoped>\n",
       "    .dataframe tbody tr th:only-of-type {\n",
       "        vertical-align: middle;\n",
       "    }\n",
       "\n",
       "    .dataframe tbody tr th {\n",
       "        vertical-align: top;\n",
       "    }\n",
       "\n",
       "    .dataframe thead th {\n",
       "        text-align: right;\n",
       "    }\n",
       "</style>\n",
       "<table border=\"1\" class=\"dataframe\">\n",
       "  <thead>\n",
       "    <tr style=\"text-align: right;\">\n",
       "      <th></th>\n",
       "      <th>userId</th>\n",
       "      <th>movieId</th>\n",
       "      <th>timestamp</th>\n",
       "    </tr>\n",
       "  </thead>\n",
       "  <tbody>\n",
       "    <tr>\n",
       "      <th>count</th>\n",
       "      <td>3683</td>\n",
       "      <td>3683</td>\n",
       "      <td>3683</td>\n",
       "    </tr>\n",
       "    <tr>\n",
       "      <th>mean</th>\n",
       "      <td>431</td>\n",
       "      <td>27252</td>\n",
       "      <td>1320031967</td>\n",
       "    </tr>\n",
       "    <tr>\n",
       "      <th>std</th>\n",
       "      <td>158</td>\n",
       "      <td>43491</td>\n",
       "      <td>172102450</td>\n",
       "    </tr>\n",
       "    <tr>\n",
       "      <th>min</th>\n",
       "      <td>2</td>\n",
       "      <td>1</td>\n",
       "      <td>1137179352</td>\n",
       "    </tr>\n",
       "    <tr>\n",
       "      <th>25%</th>\n",
       "      <td>424</td>\n",
       "      <td>1262</td>\n",
       "      <td>1137521216</td>\n",
       "    </tr>\n",
       "    <tr>\n",
       "      <th>50%</th>\n",
       "      <td>474</td>\n",
       "      <td>4454</td>\n",
       "      <td>1269832564</td>\n",
       "    </tr>\n",
       "    <tr>\n",
       "      <th>75%</th>\n",
       "      <td>477</td>\n",
       "      <td>39263</td>\n",
       "      <td>1498456766</td>\n",
       "    </tr>\n",
       "    <tr>\n",
       "      <th>max</th>\n",
       "      <td>610</td>\n",
       "      <td>193565</td>\n",
       "      <td>1537098603</td>\n",
       "    </tr>\n",
       "  </tbody>\n",
       "</table>\n",
       "</div>"
      ],
      "text/plain": [
       "       userId  movieId  timestamp\n",
       "count    3683     3683       3683\n",
       "mean      431    27252 1320031967\n",
       "std       158    43491  172102450\n",
       "min         2        1 1137179352\n",
       "25%       424     1262 1137521216\n",
       "50%       474     4454 1269832564\n",
       "75%       477    39263 1498456766\n",
       "max       610   193565 1537098603"
      ]
     },
     "execution_count": 17,
     "metadata": {},
     "output_type": "execute_result"
    }
   ],
   "source": [
    "tags.describe()"
   ]
  },
  {
   "cell_type": "markdown",
   "id": "8f54937d",
   "metadata": {},
   "source": [
    "* we see that there are four features or columns in tags \n",
    "* userId, movieId, tag, timestamp\n",
    "\n",
    "* userID : according to the description \n",
    "*** MovieLens users were selected at random for inclusion. Their ids have been anonymized.\n",
    "    User ids are consistent between `ratings.csv` and `tags.csv`\n",
    "    (i.e., the same id refers to the same user across the two files).***\n",
    "    \n",
    "* tag : according to the description (Comment)\n",
    "*** Tags are user-generated metadata about movies.\n",
    "    Each tag is typically a single word or short phrase.\n",
    "    The meaning, value, and purpose of a particular tag is determined by each user. ***\n",
    "\n",
    "* timestamp : according to the description\n",
    "*** Timestamps represent seconds since midnight Coordinated Universal Time (UTC) of January 1, 1970. ***"
   ]
  },
  {
   "cell_type": "code",
   "execution_count": 18,
   "id": "1cf856d8",
   "metadata": {},
   "outputs": [],
   "source": [
    "# The timestamp column seems redundant so we can just drop it\n",
    "tags = tags.drop(columns = 'timestamp')"
   ]
  },
  {
   "cell_type": "code",
   "execution_count": 19,
   "id": "986e795a",
   "metadata": {},
   "outputs": [
    {
     "name": "stdout",
     "output_type": "stream",
     "text": [
      "Index(['userId', 'movieId', 'tag'], dtype='object')\n"
     ]
    }
   ],
   "source": [
    "# Checking\n",
    "print(tags.columns)"
   ]
  },
  {
   "cell_type": "code",
   "execution_count": 20,
   "id": "2912c1eb",
   "metadata": {
    "scrolled": true
   },
   "outputs": [
    {
     "name": "stdout",
     "output_type": "stream",
     "text": [
      "Percentage of missing values:\n",
      "userId    0\n",
      "movieId   0\n",
      "tag       0\n",
      "dtype: float64\n"
     ]
    }
   ],
   "source": [
    "# Amount of missing data\n",
    "print(\"Percentage of missing values:\")\n",
    "print(((tags.isna().sum()) / tags.shape[0]) * 100)"
   ]
  },
  {
   "cell_type": "markdown",
   "id": "10f8df20",
   "metadata": {},
   "source": [
    "* No missing data "
   ]
  },
  {
   "cell_type": "markdown",
   "id": "6fdc6784",
   "metadata": {},
   "source": [
    "### ratings"
   ]
  },
  {
   "cell_type": "code",
   "execution_count": 21,
   "id": "fafd4519",
   "metadata": {},
   "outputs": [
    {
     "data": {
      "text/html": [
       "<div>\n",
       "<style scoped>\n",
       "    .dataframe tbody tr th:only-of-type {\n",
       "        vertical-align: middle;\n",
       "    }\n",
       "\n",
       "    .dataframe tbody tr th {\n",
       "        vertical-align: top;\n",
       "    }\n",
       "\n",
       "    .dataframe thead th {\n",
       "        text-align: right;\n",
       "    }\n",
       "</style>\n",
       "<table border=\"1\" class=\"dataframe\">\n",
       "  <thead>\n",
       "    <tr style=\"text-align: right;\">\n",
       "      <th></th>\n",
       "      <th>userId</th>\n",
       "      <th>movieId</th>\n",
       "      <th>rating</th>\n",
       "      <th>timestamp</th>\n",
       "    </tr>\n",
       "  </thead>\n",
       "  <tbody>\n",
       "    <tr>\n",
       "      <th>76073</th>\n",
       "      <td>479</td>\n",
       "      <td>842</td>\n",
       "      <td>2</td>\n",
       "      <td>1039362294</td>\n",
       "    </tr>\n",
       "    <tr>\n",
       "      <th>15133</th>\n",
       "      <td>97</td>\n",
       "      <td>3717</td>\n",
       "      <td>4</td>\n",
       "      <td>1043382867</td>\n",
       "    </tr>\n",
       "    <tr>\n",
       "      <th>62528</th>\n",
       "      <td>414</td>\n",
       "      <td>529</td>\n",
       "      <td>4</td>\n",
       "      <td>961517293</td>\n",
       "    </tr>\n",
       "    <tr>\n",
       "      <th>11010</th>\n",
       "      <td>68</td>\n",
       "      <td>4681</td>\n",
       "      <td>3</td>\n",
       "      <td>1269123495</td>\n",
       "    </tr>\n",
       "    <tr>\n",
       "      <th>96373</th>\n",
       "      <td>603</td>\n",
       "      <td>1201</td>\n",
       "      <td>5</td>\n",
       "      <td>963177205</td>\n",
       "    </tr>\n",
       "  </tbody>\n",
       "</table>\n",
       "</div>"
      ],
      "text/plain": [
       "       userId  movieId  rating   timestamp\n",
       "76073     479      842       2  1039362294\n",
       "15133      97     3717       4  1043382867\n",
       "62528     414      529       4   961517293\n",
       "11010      68     4681       3  1269123495\n",
       "96373     603     1201       5   963177205"
      ]
     },
     "execution_count": 21,
     "metadata": {},
     "output_type": "execute_result"
    }
   ],
   "source": [
    "ratings.sample(5)"
   ]
  },
  {
   "cell_type": "code",
   "execution_count": 22,
   "id": "40592cf8",
   "metadata": {},
   "outputs": [
    {
     "name": "stdout",
     "output_type": "stream",
     "text": [
      "<class 'pandas.core.frame.DataFrame'>\n",
      "RangeIndex: 100836 entries, 0 to 100835\n",
      "Data columns (total 4 columns):\n",
      " #   Column     Non-Null Count   Dtype  \n",
      "---  ------     --------------   -----  \n",
      " 0   userId     100836 non-null  int64  \n",
      " 1   movieId    100836 non-null  int64  \n",
      " 2   rating     100836 non-null  float64\n",
      " 3   timestamp  100836 non-null  int64  \n",
      "dtypes: float64(1), int64(3)\n",
      "memory usage: 3.1 MB\n"
     ]
    }
   ],
   "source": [
    "ratings.info()"
   ]
  },
  {
   "cell_type": "code",
   "execution_count": 23,
   "id": "89c72077",
   "metadata": {},
   "outputs": [
    {
     "data": {
      "text/html": [
       "<div>\n",
       "<style scoped>\n",
       "    .dataframe tbody tr th:only-of-type {\n",
       "        vertical-align: middle;\n",
       "    }\n",
       "\n",
       "    .dataframe tbody tr th {\n",
       "        vertical-align: top;\n",
       "    }\n",
       "\n",
       "    .dataframe thead th {\n",
       "        text-align: right;\n",
       "    }\n",
       "</style>\n",
       "<table border=\"1\" class=\"dataframe\">\n",
       "  <thead>\n",
       "    <tr style=\"text-align: right;\">\n",
       "      <th></th>\n",
       "      <th>userId</th>\n",
       "      <th>movieId</th>\n",
       "      <th>rating</th>\n",
       "      <th>timestamp</th>\n",
       "    </tr>\n",
       "  </thead>\n",
       "  <tbody>\n",
       "    <tr>\n",
       "      <th>count</th>\n",
       "      <td>100836</td>\n",
       "      <td>100836</td>\n",
       "      <td>100836</td>\n",
       "      <td>100836</td>\n",
       "    </tr>\n",
       "    <tr>\n",
       "      <th>mean</th>\n",
       "      <td>326</td>\n",
       "      <td>19435</td>\n",
       "      <td>4</td>\n",
       "      <td>1205946087</td>\n",
       "    </tr>\n",
       "    <tr>\n",
       "      <th>std</th>\n",
       "      <td>183</td>\n",
       "      <td>35531</td>\n",
       "      <td>1</td>\n",
       "      <td>216261036</td>\n",
       "    </tr>\n",
       "    <tr>\n",
       "      <th>min</th>\n",
       "      <td>1</td>\n",
       "      <td>1</td>\n",
       "      <td>0</td>\n",
       "      <td>828124615</td>\n",
       "    </tr>\n",
       "    <tr>\n",
       "      <th>25%</th>\n",
       "      <td>177</td>\n",
       "      <td>1199</td>\n",
       "      <td>3</td>\n",
       "      <td>1019123866</td>\n",
       "    </tr>\n",
       "    <tr>\n",
       "      <th>50%</th>\n",
       "      <td>325</td>\n",
       "      <td>2991</td>\n",
       "      <td>4</td>\n",
       "      <td>1186086662</td>\n",
       "    </tr>\n",
       "    <tr>\n",
       "      <th>75%</th>\n",
       "      <td>477</td>\n",
       "      <td>8122</td>\n",
       "      <td>4</td>\n",
       "      <td>1435994144</td>\n",
       "    </tr>\n",
       "    <tr>\n",
       "      <th>max</th>\n",
       "      <td>610</td>\n",
       "      <td>193609</td>\n",
       "      <td>5</td>\n",
       "      <td>1537799250</td>\n",
       "    </tr>\n",
       "  </tbody>\n",
       "</table>\n",
       "</div>"
      ],
      "text/plain": [
       "       userId  movieId  rating  timestamp\n",
       "count  100836   100836  100836     100836\n",
       "mean      326    19435       4 1205946087\n",
       "std       183    35531       1  216261036\n",
       "min         1        1       0  828124615\n",
       "25%       177     1199       3 1019123866\n",
       "50%       325     2991       4 1186086662\n",
       "75%       477     8122       4 1435994144\n",
       "max       610   193609       5 1537799250"
      ]
     },
     "execution_count": 23,
     "metadata": {},
     "output_type": "execute_result"
    }
   ],
   "source": [
    "ratings.describe()"
   ]
  },
  {
   "cell_type": "markdown",
   "id": "4ecfa552",
   "metadata": {},
   "source": [
    "* we see that there are four features or columns in ratings \n",
    "* userId, movieId, rating, timestamp\n",
    "\n",
    "* rating : according to the description\n",
    "*** Ratings are made on a 5-star scale,\n",
    "    with half-star increments (0.5 stars - 5.0 stars). ***"
   ]
  },
  {
   "cell_type": "code",
   "execution_count": 24,
   "id": "71b979db",
   "metadata": {},
   "outputs": [],
   "source": [
    "# The timestamp column seems redundant so we can just drop it\n",
    "ratings = ratings.drop(columns = 'timestamp')"
   ]
  },
  {
   "cell_type": "code",
   "execution_count": 25,
   "id": "cdee5325",
   "metadata": {},
   "outputs": [
    {
     "name": "stdout",
     "output_type": "stream",
     "text": [
      "Index(['userId', 'movieId', 'rating'], dtype='object')\n"
     ]
    }
   ],
   "source": [
    "# Checking\n",
    "print(ratings.columns)"
   ]
  },
  {
   "cell_type": "code",
   "execution_count": 26,
   "id": "afb07308",
   "metadata": {},
   "outputs": [
    {
     "name": "stdout",
     "output_type": "stream",
     "text": [
      "Percentage of missing values:\n",
      "userId    0\n",
      "movieId   0\n",
      "rating    0\n",
      "dtype: float64\n"
     ]
    }
   ],
   "source": [
    "# Amount of missing data\n",
    "print(\"Percentage of missing values:\")\n",
    "print(((ratings.isna().sum()) / ratings.shape[0]) * 100)"
   ]
  },
  {
   "cell_type": "markdown",
   "id": "a2a61a91",
   "metadata": {},
   "source": [
    "* No missing data "
   ]
  },
  {
   "cell_type": "markdown",
   "id": "b0390870",
   "metadata": {},
   "source": [
    "### links"
   ]
  },
  {
   "cell_type": "code",
   "execution_count": 27,
   "id": "179792cf",
   "metadata": {
    "scrolled": true
   },
   "outputs": [
    {
     "data": {
      "text/html": [
       "<div>\n",
       "<style scoped>\n",
       "    .dataframe tbody tr th:only-of-type {\n",
       "        vertical-align: middle;\n",
       "    }\n",
       "\n",
       "    .dataframe tbody tr th {\n",
       "        vertical-align: top;\n",
       "    }\n",
       "\n",
       "    .dataframe thead th {\n",
       "        text-align: right;\n",
       "    }\n",
       "</style>\n",
       "<table border=\"1\" class=\"dataframe\">\n",
       "  <thead>\n",
       "    <tr style=\"text-align: right;\">\n",
       "      <th></th>\n",
       "      <th>movieId</th>\n",
       "      <th>imdbId</th>\n",
       "      <th>tmdbId</th>\n",
       "    </tr>\n",
       "  </thead>\n",
       "  <tbody>\n",
       "    <tr>\n",
       "      <th>9542</th>\n",
       "      <td>172637</td>\n",
       "      <td>219263</td>\n",
       "      <td>74535</td>\n",
       "    </tr>\n",
       "    <tr>\n",
       "      <th>8741</th>\n",
       "      <td>127180</td>\n",
       "      <td>2044056</td>\n",
       "      <td>125336</td>\n",
       "    </tr>\n",
       "    <tr>\n",
       "      <th>7471</th>\n",
       "      <td>82041</td>\n",
       "      <td>1316536</td>\n",
       "      <td>46420</td>\n",
       "    </tr>\n",
       "    <tr>\n",
       "      <th>3390</th>\n",
       "      <td>4613</td>\n",
       "      <td>97637</td>\n",
       "      <td>10345</td>\n",
       "    </tr>\n",
       "    <tr>\n",
       "      <th>7494</th>\n",
       "      <td>82848</td>\n",
       "      <td>11541</td>\n",
       "      <td>23282</td>\n",
       "    </tr>\n",
       "  </tbody>\n",
       "</table>\n",
       "</div>"
      ],
      "text/plain": [
       "      movieId   imdbId  tmdbId\n",
       "9542   172637   219263   74535\n",
       "8741   127180  2044056  125336\n",
       "7471    82041  1316536   46420\n",
       "3390     4613    97637   10345\n",
       "7494    82848    11541   23282"
      ]
     },
     "execution_count": 27,
     "metadata": {},
     "output_type": "execute_result"
    }
   ],
   "source": [
    "links.sample(5)"
   ]
  },
  {
   "cell_type": "code",
   "execution_count": 28,
   "id": "c53abe92",
   "metadata": {
    "scrolled": true
   },
   "outputs": [
    {
     "name": "stdout",
     "output_type": "stream",
     "text": [
      "<class 'pandas.core.frame.DataFrame'>\n",
      "RangeIndex: 9742 entries, 0 to 9741\n",
      "Data columns (total 3 columns):\n",
      " #   Column   Non-Null Count  Dtype  \n",
      "---  ------   --------------  -----  \n",
      " 0   movieId  9742 non-null   int64  \n",
      " 1   imdbId   9742 non-null   int64  \n",
      " 2   tmdbId   9734 non-null   float64\n",
      "dtypes: float64(1), int64(2)\n",
      "memory usage: 228.5 KB\n"
     ]
    }
   ],
   "source": [
    "links.info()"
   ]
  },
  {
   "cell_type": "code",
   "execution_count": 29,
   "id": "bdb0fe92",
   "metadata": {
    "scrolled": true
   },
   "outputs": [
    {
     "data": {
      "text/html": [
       "<div>\n",
       "<style scoped>\n",
       "    .dataframe tbody tr th:only-of-type {\n",
       "        vertical-align: middle;\n",
       "    }\n",
       "\n",
       "    .dataframe tbody tr th {\n",
       "        vertical-align: top;\n",
       "    }\n",
       "\n",
       "    .dataframe thead th {\n",
       "        text-align: right;\n",
       "    }\n",
       "</style>\n",
       "<table border=\"1\" class=\"dataframe\">\n",
       "  <thead>\n",
       "    <tr style=\"text-align: right;\">\n",
       "      <th></th>\n",
       "      <th>movieId</th>\n",
       "      <th>imdbId</th>\n",
       "      <th>tmdbId</th>\n",
       "    </tr>\n",
       "  </thead>\n",
       "  <tbody>\n",
       "    <tr>\n",
       "      <th>count</th>\n",
       "      <td>9742</td>\n",
       "      <td>9742</td>\n",
       "      <td>9734</td>\n",
       "    </tr>\n",
       "    <tr>\n",
       "      <th>mean</th>\n",
       "      <td>42200</td>\n",
       "      <td>677184</td>\n",
       "      <td>55162</td>\n",
       "    </tr>\n",
       "    <tr>\n",
       "      <th>std</th>\n",
       "      <td>52160</td>\n",
       "      <td>1107228</td>\n",
       "      <td>93653</td>\n",
       "    </tr>\n",
       "    <tr>\n",
       "      <th>min</th>\n",
       "      <td>1</td>\n",
       "      <td>417</td>\n",
       "      <td>2</td>\n",
       "    </tr>\n",
       "    <tr>\n",
       "      <th>25%</th>\n",
       "      <td>3248</td>\n",
       "      <td>95181</td>\n",
       "      <td>9666</td>\n",
       "    </tr>\n",
       "    <tr>\n",
       "      <th>50%</th>\n",
       "      <td>7300</td>\n",
       "      <td>167260</td>\n",
       "      <td>16529</td>\n",
       "    </tr>\n",
       "    <tr>\n",
       "      <th>75%</th>\n",
       "      <td>76232</td>\n",
       "      <td>805568</td>\n",
       "      <td>44206</td>\n",
       "    </tr>\n",
       "    <tr>\n",
       "      <th>max</th>\n",
       "      <td>193609</td>\n",
       "      <td>8391976</td>\n",
       "      <td>525662</td>\n",
       "    </tr>\n",
       "  </tbody>\n",
       "</table>\n",
       "</div>"
      ],
      "text/plain": [
       "       movieId  imdbId  tmdbId\n",
       "count     9742    9742    9734\n",
       "mean     42200  677184   55162\n",
       "std      52160 1107228   93653\n",
       "min          1     417       2\n",
       "25%       3248   95181    9666\n",
       "50%       7300  167260   16529\n",
       "75%      76232  805568   44206\n",
       "max     193609 8391976  525662"
      ]
     },
     "execution_count": 29,
     "metadata": {},
     "output_type": "execute_result"
    }
   ],
   "source": [
    "links.describe()"
   ]
  },
  {
   "cell_type": "markdown",
   "id": "63944fa7",
   "metadata": {},
   "source": [
    "* we see that there are four features or columns in links \n",
    "* userId, movieId, imdbId, tmdbId\n",
    "\n",
    "* imdbId : according to the description\n",
    "*** imdbId is an identifier for movies used by <http://www.imdb.com>.\n",
    "    E.g., the movie Toy Story has the link <http://www.imdb.com/title/tt0114709/>. ***\n",
    "    \n",
    "* tmdbId : according to the description\n",
    "*** tmdbId is an identifier for movies used by <https://www.themoviedb.org>.\n",
    "    E.g., the movie Toy Story has the link <https://www.themoviedb.org/movie/862>. ***"
   ]
  },
  {
   "cell_type": "code",
   "execution_count": 30,
   "id": "36acc8b9",
   "metadata": {
    "scrolled": true
   },
   "outputs": [
    {
     "name": "stdout",
     "output_type": "stream",
     "text": [
      "Percentage of missing values:\n",
      "movieId   0\n",
      "imdbId    0\n",
      "tmdbId    0\n",
      "dtype: float64\n"
     ]
    }
   ],
   "source": [
    "# Amount of missing data\n",
    "print(\"Percentage of missing values:\")\n",
    "print(((links.isna().sum()) / links.shape[0]) * 100)"
   ]
  },
  {
   "cell_type": "markdown",
   "id": "1b77f7e5",
   "metadata": {},
   "source": [
    "* No missing data "
   ]
  },
  {
   "cell_type": "markdown",
   "id": "1a68e9c4",
   "metadata": {},
   "source": [
    "#### Web-Crawling\n",
    "* Based on the imdbId I would like to add few more features which \n",
    "  I get by web-crawling (Automation)\n",
    "* Features I would like to add are:\n",
    "* top stars which must include hero and heroine\n",
    "* Director\n",
    "* An overview or summary which has useful keywords which will help me\n",
    "  later in content-collaboration"
   ]
  },
  {
   "cell_type": "code",
   "execution_count": 32,
   "id": "0722622b",
   "metadata": {},
   "outputs": [],
   "source": [
    "from selenium import webdriver\n",
    "from selenium.webdriver.chrome.service import Service"
   ]
  },
  {
   "cell_type": "markdown",
   "id": "08fc52a5",
   "metadata": {},
   "source": [
    "* We will be using selenium the reasons are mentioned in the report"
   ]
  },
  {
   "cell_type": "code",
   "execution_count": 33,
   "id": "152b62b9",
   "metadata": {},
   "outputs": [],
   "source": [
    "# Define the path to the Chrome WebDriver executable\n",
    "webdriver_path = r\"C:\\Users\\rahul\\Downloads\\chromedriver\\chromedriver-win64\\chromedriver.exe\"\n",
    "\n",
    "# Create a service object for ChromeDriver\n",
    "service = Service(webdriver_path)\n",
    "\n",
    "# Start the WebDriver service\n",
    "service.start()\n",
    "\n",
    "# Create a Chrome WebDriver instance\n",
    "driver = webdriver.Chrome(service = service)\n",
    "\n",
    "for j in range(0, len(links['imdbId'])):\n",
    "    # website link\n",
    "    web = 'https://www.imdb.com/title/tt'\n",
    "    z = 7 - len(str(links['imdbId'][j]))\n",
    "    web += '0' * z + str(links['imdbId'][j]) + '/'\n",
    "    \n",
    "    # Navigate to the IMDb URL\n",
    "    driver.get(web)\n",
    "    \n",
    "    meta_description = driver.find_elements(by = 'xpath', value =\n",
    "                                    '//meta[@name=\"description\"]')\n",
    "    \n",
    "    description_content = meta_description[0].get_attribute(\"content\")\n",
    "        \n",
    "# Close the WebDriver session\n",
    "driver.quit()\n",
    "\n",
    "# Stop the WebDriver service\n",
    "service.stop()"
   ]
  },
  {
   "cell_type": "markdown",
   "id": "8f9b228e",
   "metadata": {},
   "source": [
    "* One thing I want to do here is in the overview instead of getting all the words I want to get keywords only\n",
    "* Meaning I will try to remove as many stopwords as possible\n",
    "* Further details are mentioned in report"
   ]
  },
  {
   "cell_type": "code",
   "execution_count": 173,
   "id": "538e3136",
   "metadata": {},
   "outputs": [],
   "source": [
    "import nltk\n",
    "from nltk.corpus import stopwords\n",
    "stop_words = set(stopwords.words('english'))"
   ]
  },
  {
   "cell_type": "code",
   "execution_count": 186,
   "id": "36c82919",
   "metadata": {},
   "outputs": [],
   "source": [
    "# Objectives\n",
    "Director = []\n",
    "Stars = []\n",
    "Keywords = []"
   ]
  },
  {
   "cell_type": "code",
   "execution_count": 187,
   "id": "130422a2",
   "metadata": {},
   "outputs": [],
   "source": [
    "# Filling objectives based on the requirements\n",
    "for j in content:\n",
    "    first_dot = j.find(\" With\")\n",
    "    second_dot = j.find(\".\", first_dot)\n",
    "    while(j[second_dot - 2] + j[second_dot - 1] == 'Jr'):\n",
    "        second_dot = j.find(\".\", second_dot + 1)\n",
    "        \n",
    "    third_dot = j.find(\".\", second_dot + 1)\n",
    "\n",
    "    d = j[:first_dot - 1]\n",
    "    s = j[first_dot + 1:second_dot]\n",
    "    o = j[second_dot + 2:-2]\n",
    "\n",
    "    i_ = d.find('Directed by')\n",
    "\n",
    "    Director.append(d[i_:][12:].split(', '))\n",
    "    Stars.append(s[5:].split(', '))\n",
    "\n",
    "    o = o.lower()\n",
    "    s = ''\n",
    "\n",
    "    for i in o:\n",
    "        if(i == ' ' or ord(i) in range(97,123)):\n",
    "            s += i\n",
    "        if(i == '-'):\n",
    "            s += ' '\n",
    "        \n",
    "    total_words = s.split()\n",
    "\n",
    "    k = []\n",
    "    for each_word in total_words:\n",
    "        if each_word not in stop_words:\n",
    "            k.append(each_word)\n",
    "\n",
    "    Keywords.append(k)"
   ]
  },
  {
   "cell_type": "markdown",
   "id": "58d184f2",
   "metadata": {},
   "source": [
    "## Merging\n",
    "* For content based we will only be requiring movies and links along with the scraped data\n",
    "* So first add three new columns Director, Stars and Keywords in links dataframe\n",
    "* Later just concat links and movies but drop one of the moviesId as they are arranged in same order and make a new final df dataframe"
   ]
  },
  {
   "cell_type": "code",
   "execution_count": 192,
   "id": "84b000a2",
   "metadata": {},
   "outputs": [],
   "source": [
    "# Adding scraped data\n",
    "links['Director'] = Director\n",
    "links['Stars'] = Stars\n",
    "links['Keywords'] = Keywords"
   ]
  },
  {
   "cell_type": "code",
   "execution_count": 30,
   "id": "a72be569",
   "metadata": {},
   "outputs": [],
   "source": [
    "# Removing moviesId column\n",
    "del links[links.columns[0]]"
   ]
  },
  {
   "cell_type": "code",
   "execution_count": 193,
   "id": "7ed5a3d1",
   "metadata": {},
   "outputs": [
    {
     "data": {
      "text/html": [
       "<div>\n",
       "<style scoped>\n",
       "    .dataframe tbody tr th:only-of-type {\n",
       "        vertical-align: middle;\n",
       "    }\n",
       "\n",
       "    .dataframe tbody tr th {\n",
       "        vertical-align: top;\n",
       "    }\n",
       "\n",
       "    .dataframe thead th {\n",
       "        text-align: right;\n",
       "    }\n",
       "</style>\n",
       "<table border=\"1\" class=\"dataframe\">\n",
       "  <thead>\n",
       "    <tr style=\"text-align: right;\">\n",
       "      <th></th>\n",
       "      <th>imdbId</th>\n",
       "      <th>tmdbId</th>\n",
       "      <th>Director</th>\n",
       "      <th>Stars</th>\n",
       "      <th>Keywords</th>\n",
       "    </tr>\n",
       "  </thead>\n",
       "  <tbody>\n",
       "    <tr>\n",
       "      <th>658</th>\n",
       "      <td>117918</td>\n",
       "      <td>10478</td>\n",
       "      <td>[Ron Shelton]</td>\n",
       "      <td>[Kevin Costner, Rene Russo, Don Johnson, Cheec...</td>\n",
       "      <td>[washed, golf, pro, working, driving, range, t...</td>\n",
       "    </tr>\n",
       "    <tr>\n",
       "      <th>5333</th>\n",
       "      <td>356618</td>\n",
       "      <td>10145</td>\n",
       "      <td>[Joseph Ruben]</td>\n",
       "      <td>[Julianne Moore, Christopher Kovaleski, Matthe...</td>\n",
       "      <td>[told, children, never, existed, man, woman, s...</td>\n",
       "    </tr>\n",
       "    <tr>\n",
       "      <th>8272</th>\n",
       "      <td>2278871</td>\n",
       "      <td>152584</td>\n",
       "      <td>[Abdellatif Kechiche]</td>\n",
       "      <td>[Léa Seydoux, Adèle Exarchopoulos, Salim Kechi...</td>\n",
       "      <td>[adles, life, changed, meets, emma, young, wom...</td>\n",
       "    </tr>\n",
       "    <tr>\n",
       "      <th>6214</th>\n",
       "      <td>425055</td>\n",
       "      <td>80919</td>\n",
       "      <td>[Michael Hoffman]</td>\n",
       "      <td>[Michael Keaton, Robert Downey Jr., Ari Grayno...</td>\n",
       "      <td>[combining, real, fictional, events, movie, ce...</td>\n",
       "    </tr>\n",
       "    <tr>\n",
       "      <th>7353</th>\n",
       "      <td>1075747</td>\n",
       "      <td>20533</td>\n",
       "      <td>[Jimmy Hayward]</td>\n",
       "      <td>[Josh Brolin, John Malkovich, Megan Fox, Micha...</td>\n",
       "      <td>[us, military, makes, scarred, bounty, hunter,...</td>\n",
       "    </tr>\n",
       "  </tbody>\n",
       "</table>\n",
       "</div>"
      ],
      "text/plain": [
       "       imdbId  tmdbId               Director  \\\n",
       "658    117918   10478          [Ron Shelton]   \n",
       "5333   356618   10145         [Joseph Ruben]   \n",
       "8272  2278871  152584  [Abdellatif Kechiche]   \n",
       "6214   425055   80919      [Michael Hoffman]   \n",
       "7353  1075747   20533        [Jimmy Hayward]   \n",
       "\n",
       "                                                  Stars  \\\n",
       "658   [Kevin Costner, Rene Russo, Don Johnson, Cheec...   \n",
       "5333  [Julianne Moore, Christopher Kovaleski, Matthe...   \n",
       "8272  [Léa Seydoux, Adèle Exarchopoulos, Salim Kechi...   \n",
       "6214  [Michael Keaton, Robert Downey Jr., Ari Grayno...   \n",
       "7353  [Josh Brolin, John Malkovich, Megan Fox, Micha...   \n",
       "\n",
       "                                               Keywords  \n",
       "658   [washed, golf, pro, working, driving, range, t...  \n",
       "5333  [told, children, never, existed, man, woman, s...  \n",
       "8272  [adles, life, changed, meets, emma, young, wom...  \n",
       "6214  [combining, real, fictional, events, movie, ce...  \n",
       "7353  [us, military, makes, scarred, bounty, hunter,...  "
      ]
     },
     "execution_count": 193,
     "metadata": {},
     "output_type": "execute_result"
    }
   ],
   "source": [
    "# Checking\n",
    "links.sample(5)"
   ]
  },
  {
   "cell_type": "code",
   "execution_count": 194,
   "id": "feab15c5",
   "metadata": {},
   "outputs": [],
   "source": [
    "# Final dataframe via concatination\n",
    "df = pd.concat([movies, links], axis=1)"
   ]
  },
  {
   "cell_type": "code",
   "execution_count": 206,
   "id": "0bf57bb0",
   "metadata": {},
   "outputs": [
    {
     "name": "stdout",
     "output_type": "stream",
     "text": [
      "      movieId                                             genres  \\\n",
      "0           1  [Adventure, Animation, Children, Comedy, Fantasy]   \n",
      "1           2                     [Adventure, Children, Fantasy]   \n",
      "2           3                                  [Comedy, Romance]   \n",
      "3           4                           [Comedy, Drama, Romance]   \n",
      "4           5                                           [Comedy]   \n",
      "...       ...                                                ...   \n",
      "9737   193581               [Action, Animation, Comedy, Fantasy]   \n",
      "9738   193583                       [Animation, Comedy, Fantasy]   \n",
      "9739   193585                                            [Drama]   \n",
      "9740   193587                                [Action, Animation]   \n",
      "9741   193609                                           [Comedy]   \n",
      "\n",
      "                                   Title  Year   imdbId  tmdbId  \\\n",
      "0                              Toy Story  1995   114709     862   \n",
      "1                                Jumanji  1995   113497    8844   \n",
      "2                       Grumpier Old Men  1995   113228   15602   \n",
      "3                      Waiting to Exhale  1995   114885   31357   \n",
      "4            Father of the Bride Part II  1995   113041   11862   \n",
      "...                                  ...   ...      ...     ...   \n",
      "9737  Black Butler: Book of the Atlantic  2017  5476944  432131   \n",
      "9738               No Game No Life: Zero  2017  5914996  445030   \n",
      "9739                               Flint  2017  6397426  479308   \n",
      "9740        Bungo Stray Dogs: Dead Apple  2018  8391976  483455   \n",
      "9741        Andrew Dice Clay: Dice Rules  1991   101726   37891   \n",
      "\n",
      "                          Director  \\\n",
      "0                  [John Lasseter]   \n",
      "1                   [Joe Johnston]   \n",
      "2                  [Howard Deutch]   \n",
      "3                [Forest Whitaker]   \n",
      "4                  [Charles Shyer]   \n",
      "...                            ...   \n",
      "9737  [Noriyuki Abe, Stephen Hoff]   \n",
      "9738             [Atsuko Ishizuka]   \n",
      "9739             [Bruce Beresford]   \n",
      "9740             [Takuya Igarashi]   \n",
      "9741                   [Jay Dubin]   \n",
      "\n",
      "                                                  Stars  \\\n",
      "0       [Tom Hanks, Tim Allen, Don Rickles, Jim Varney]   \n",
      "1     [Robin Williams, Jonathan Hyde, Kirsten Dunst,...   \n",
      "2     [Walter Matthau, Jack Lemmon, Sophia Loren, An...   \n",
      "3     [Whitney Houston, Angela Bassett, Loretta Devi...   \n",
      "4     [Steve Martin, Diane Keaton, Martin Short, Kim...   \n",
      "...                                                 ...   \n",
      "9737                             [Bryn Apprill, Dawn M]   \n",
      "9738  [Alexandra Bedford, Jessica Boone, Ricardo Con...   \n",
      "9739  [Rob Morrow, Marin Ireland, Lyndie Greenwood, ...   \n",
      "9740  [Brian Beacock, Ray Chase, Lucien Dodge, Carri...   \n",
      "9741  [Andrew Dice Clay, Eddie Griffin, Sylvia Harma...   \n",
      "\n",
      "                                               Keywords  \n",
      "0     [cowboy, doll, profoundly, threatened, jealous...  \n",
      "1     [two, kids, find, play, magical, board, game, ...  \n",
      "2     [john, max, resolve, save, beloved, bait, shop...  \n",
      "3     [based, terry, mcmillans, novel, film, follows...  \n",
      "4     [george, banks, must, deal, daughters, pregnan...  \n",
      "...                                                 ...  \n",
      "9737  [bennett, justin, briner, jessica, cavanagh, y...  \n",
      "9738  [adaption, sixth, light, novel, series, follow...  \n",
      "9739  [woman, deals, toxic, water, scandal, flint, m...  \n",
      "9740  [armed, detective, agency, investigates, bizar...  \n",
      "9741  [outrageous, misogynistic, vulgar, max, comedi...  \n",
      "\n",
      "[9742 rows x 9 columns]\n"
     ]
    }
   ],
   "source": [
    "# Visualisation\n",
    "print(df)"
   ]
  }
 ],
 "metadata": {
  "kernelspec": {
   "display_name": "Python 3 (ipykernel)",
   "language": "python",
   "name": "python3"
  },
  "language_info": {
   "codemirror_mode": {
    "name": "ipython",
    "version": 3
   },
   "file_extension": ".py",
   "mimetype": "text/x-python",
   "name": "python",
   "nbconvert_exporter": "python",
   "pygments_lexer": "ipython3",
   "version": "3.11.5"
  }
 },
 "nbformat": 4,
 "nbformat_minor": 5
}
